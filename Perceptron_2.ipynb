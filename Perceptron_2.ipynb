{
  "nbformat": 4,
  "nbformat_minor": 0,
  "metadata": {
    "colab": {
      "provenance": [],
      "authorship_tag": "ABX9TyNOpcozAT1xDD6RYviv/1qz",
      "include_colab_link": true
    },
    "kernelspec": {
      "name": "python3",
      "display_name": "Python 3"
    },
    "language_info": {
      "name": "python"
    }
  },
  "cells": [
    {
      "cell_type": "markdown",
      "metadata": {
        "id": "view-in-github",
        "colab_type": "text"
      },
      "source": [
        "<a href=\"https://colab.research.google.com/github/Jatin1895470/Deep-Learning-Assignment1/blob/main/Perceptron_2.ipynb\" target=\"_parent\"><img src=\"https://colab.research.google.com/assets/colab-badge.svg\" alt=\"Open In Colab\"/></a>"
      ]
    },
    {
      "cell_type": "code",
      "execution_count": 3,
      "metadata": {
        "colab": {
          "base_uri": "https://localhost:8080/"
        },
        "id": "FpO2WV7UhWAC",
        "outputId": "0cf91d4f-3c45-4fcb-8df2-34c72051dd1b"
      },
      "outputs": [
        {
          "output_type": "stream",
          "name": "stdout",
          "text": [
            "Drive already mounted at /content/drive; to attempt to forcibly remount, call drive.mount(\"/content/drive\", force_remount=True).\n",
            "Best Hyperparameters:\n",
            "Learning Rate (eta0): 0.001\n",
            "Max Iterations: 50\n",
            "\n",
            "Test Set Results:\n",
            "Accuracy: 0.7586206896551724\n",
            "Precision: 0.8571428571428571\n",
            "Recall: 0.7397260273972602\n",
            "F1-Score: 0.7941176470588235\n"
          ]
        }
      ],
      "source": [
        "from google.colab import drive\n",
        "drive.mount('/content/drive')\n",
        "\n",
        "\n",
        "import numpy as np\n",
        "from sklearn.model_selection import train_test_split\n",
        "from sklearn.metrics import accuracy_score, precision_score, recall_score, f1_score\n",
        "from sklearn.preprocessing import StandardScaler\n",
        "from sklearn.datasets import load_svmlight_file\n",
        "from sklearn.linear_model import Perceptron\n",
        "\n",
        "\n",
        "data_path = \"/content/drive/MyDrive/diabetes_scale.txt\"\n",
        "\n",
        "\n",
        "X, y = load_svmlight_file(data_path)\n",
        "\n",
        "\n",
        "X_train, X_temp, y_train, y_temp = train_test_split(X, y, test_size=0.3, random_state=42)\n",
        "X_val, X_test, y_val, y_test = train_test_split(X_temp, y_temp, test_size=0.5, random_state=42)\n",
        "\n",
        "\n",
        "scaler = StandardScaler()\n",
        "X_train = scaler.fit_transform(X_train.toarray())\n",
        "X_val = scaler.transform(X_val.toarray())\n",
        "X_test = scaler.transform(X_test.toarray())\n",
        "\n",
        "\n",
        "best_accuracy = 0\n",
        "best_model = None\n",
        "best_eta0 = None\n",
        "best_max_iter = None\n",
        "\n",
        "\n",
        "eta0_values = [0.001, 0.01, 0.1]\n",
        "max_iter_values = [50, 100, 200]\n",
        "\n",
        "for eta0 in eta0_values:\n",
        "    for max_iter in max_iter_values:\n",
        "\n",
        "        model = Perceptron(eta0=eta0, max_iter=max_iter)\n",
        "        model.fit(X_train, y_train)\n",
        "\n",
        "\n",
        "        y_val_pred = model.predict(X_val)\n",
        "\n",
        "\n",
        "        val_accuracy = accuracy_score(y_val, y_val_pred)\n",
        "\n",
        "\n",
        "        if val_accuracy > best_accuracy:\n",
        "            best_accuracy = val_accuracy\n",
        "            best_model = model\n",
        "            best_eta0 = eta0\n",
        "            best_max_iter = max_iter\n",
        "\n",
        "\n",
        "y_test_pred = best_model.predict(X_test)\n",
        "\n",
        "\n",
        "test_accuracy = accuracy_score(y_test, y_test_pred)\n",
        "test_precision = precision_score(y_test, y_test_pred)\n",
        "test_recall = recall_score(y_test, y_test_pred)\n",
        "test_f1 = f1_score(y_test, y_test_pred)\n",
        "\n",
        "\n",
        "print(\"Best Hyperparameters:\")\n",
        "print(\"Learning Rate (eta0):\", best_eta0)\n",
        "print(\"Max Iterations:\", best_max_iter)\n",
        "\n",
        "print(\"\\nTest Set Results:\")\n",
        "print(\"Accuracy:\", test_accuracy)\n",
        "print(\"Precision:\", test_precision)\n",
        "print(\"Recall:\", test_recall)\n",
        "print(\"F1-Score:\", test_f1)\n"
      ]
    }
  ]
}